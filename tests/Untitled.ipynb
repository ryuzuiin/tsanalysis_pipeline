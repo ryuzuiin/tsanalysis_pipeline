{
 "cells": [
  {
   "cell_type": "code",
   "execution_count": 1,
   "metadata": {},
   "outputs": [],
   "source": [
    "import os\n",
    "import pandas as pd\n",
    "from tsanalysis_pipeline import CSVColumnExtractor, ModelingTimeSeriesAnalyzer"
   ]
  },
  {
   "cell_type": "code",
   "execution_count": 8,
   "id": "b3f2eb02",
   "metadata": {},
   "outputs": [
    {
     "data": {
      "text/plain": [
       "'/Users/ryliu/Documents/09GitRep/tsanalysis_pipeline'"
      ]
     },
     "execution_count": 8,
     "metadata": {},
     "output_type": "execute_result"
    }
   ],
   "source": [
    "#输出上一层目录当成根目录\n",
    "#project_root = os.path.dirname(os.getcwd())\n",
    "#已经在tsanalysis_pipeline的话，那就直接用\n",
    "project_root = os.getcwd()\n",
    "project_root"
   ]
  },
  {
   "cell_type": "code",
   "execution_count": 12,
   "id": "2022d5d2",
   "metadata": {},
   "outputs": [
    {
     "data": {
      "text/plain": [
       "'/Users/ryliu/Documents/09GitRep/tsanalysis_pipeline/data/JPYUSD.csv'"
      ]
     },
     "execution_count": 12,
     "metadata": {},
     "output_type": "execute_result"
    }
   ],
   "source": [
    "data_path = os.path.join(project_root, 'data', 'JPYUSD.csv')\n",
    "data_path"
   ]
  },
  {
   "cell_type": "code",
   "execution_count": 13,
   "id": "eca44ee2",
   "metadata": {},
   "outputs": [],
   "source": [
    "df = pd.read_csv(data_path)"
   ]
  },
  {
   "cell_type": "code",
   "execution_count": 14,
   "id": "665c3149",
   "metadata": {},
   "outputs": [],
   "source": [
    "extractor = CSVColumnExtractor(\n",
    "    directory=os.path.dirname(data_path),\n",
    "    file_column_map={os.path.basename(data_path):['Close']},\n",
    "    time_column=\"Date\"\n",
    ")"
   ]
  },
  {
   "cell_type": "code",
   "execution_count": 15,
   "id": "767ba63b",
   "metadata": {},
   "outputs": [],
   "source": [
    "data = extractor.extract_columns()"
   ]
  },
  {
   "cell_type": "code",
   "execution_count": 16,
   "id": "0f142977",
   "metadata": {},
   "outputs": [],
   "source": [
    "analyzer = ModelingTimeSeriesAnalyzer(data, 'Date', 'Close')"
   ]
  },
  {
   "cell_type": "code",
   "execution_count": 17,
   "id": "39889d0a",
   "metadata": {},
   "outputs": [
    {
     "name": "stdout",
     "output_type": "stream",
     "text": [
      "The time series is not a full range time series\n",
      "760601 missing data found\n",
      "26352 missing data found\n",
      "No fill method specified. Missing values will be retained.\n"
     ]
    },
    {
     "ename": "ValueError",
     "evalue": "cannot convert float NaN to integer",
     "output_type": "error",
     "traceback": [
      "\u001b[0;31m---------------------------------------------------------------------------\u001b[0m",
      "\u001b[0;31mValueError\u001b[0m                                Traceback (most recent call last)",
      "Cell \u001b[0;32mIn[17], line 1\u001b[0m\n\u001b[0;32m----> 1\u001b[0m \u001b[43manalyzer\u001b[49m\u001b[38;5;241;43m.\u001b[39;49m\u001b[43mrun_modeling_analysis\u001b[49m\u001b[43m(\u001b[49m\u001b[43m)\u001b[49m\n",
      "File \u001b[0;32m~/Documents/09GitRep/tsanalysis_pipeline/src/tsanalysis_pipeline/analysis/modeling_analyzer.py:102\u001b[0m, in \u001b[0;36mModelingTimeSeriesAnalyzer.run_modeling_analysis\u001b[0;34m(self, ar_max_lag, ma_max_order, arima_p_range, arima_d_range, arima_q_range)\u001b[0m\n\u001b[1;32m     97\u001b[0m \u001b[38;5;28;01mdef\u001b[39;00m \u001b[38;5;21mrun_modeling_analysis\u001b[39m(\u001b[38;5;28mself\u001b[39m, ar_max_lag\u001b[38;5;241m=\u001b[39m\u001b[38;5;241m20\u001b[39m, ma_max_order\u001b[38;5;241m=\u001b[39m\u001b[38;5;241m5\u001b[39m, \n\u001b[1;32m     98\u001b[0m                           arima_p_range\u001b[38;5;241m=\u001b[39m\u001b[38;5;28mrange\u001b[39m(\u001b[38;5;241m0\u001b[39m, \u001b[38;5;241m6\u001b[39m), arima_d_range\u001b[38;5;241m=\u001b[39m\u001b[38;5;28mrange\u001b[39m(\u001b[38;5;241m0\u001b[39m, \u001b[38;5;241m3\u001b[39m), arima_q_range\u001b[38;5;241m=\u001b[39m\u001b[38;5;28mrange\u001b[39m(\u001b[38;5;241m0\u001b[39m, \u001b[38;5;241m6\u001b[39m)):\n\u001b[1;32m     99\u001b[0m     \u001b[38;5;124;03m\"\"\"\u001b[39;00m\n\u001b[1;32m    100\u001b[0m \u001b[38;5;124;03m    Run the complete modeling analysis.\u001b[39;00m\n\u001b[1;32m    101\u001b[0m \u001b[38;5;124;03m    \"\"\"\u001b[39;00m\n\u001b[0;32m--> 102\u001b[0m     \u001b[38;5;28;43msuper\u001b[39;49m\u001b[43m(\u001b[49m\u001b[43m)\u001b[49m\u001b[38;5;241;43m.\u001b[39;49m\u001b[43mrun_advanced_analysis\u001b[49m\u001b[43m(\u001b[49m\u001b[43m)\u001b[49m\n\u001b[1;32m    103\u001b[0m     \u001b[38;5;28mself\u001b[39m\u001b[38;5;241m.\u001b[39moptimize_ar_model(max_lag\u001b[38;5;241m=\u001b[39mar_max_lag)\n\u001b[1;32m    104\u001b[0m     \u001b[38;5;28mself\u001b[39m\u001b[38;5;241m.\u001b[39moptimize_ma_model(max_order\u001b[38;5;241m=\u001b[39mma_max_order)\n",
      "File \u001b[0;32m~/Documents/09GitRep/tsanalysis_pipeline/src/tsanalysis_pipeline/analysis/advanced_analyzer.py:102\u001b[0m, in \u001b[0;36mAdvancedTimeSeriesAnalyzer.run_advanced_analysis\u001b[0;34m(self, stl_period, mstl_periods, n_jobs)\u001b[0m\n\u001b[1;32m    101\u001b[0m \u001b[38;5;28;01mdef\u001b[39;00m \u001b[38;5;21mrun_advanced_analysis\u001b[39m(\u001b[38;5;28mself\u001b[39m, stl_period\u001b[38;5;241m=\u001b[39m\u001b[38;5;241m144\u001b[39m, mstl_periods\u001b[38;5;241m=\u001b[39m[\u001b[38;5;241m144\u001b[39m, \u001b[38;5;241m1008\u001b[39m, \u001b[38;5;241m3000\u001b[39m], n_jobs\u001b[38;5;241m=\u001b[39m\u001b[38;5;28;01mNone\u001b[39;00m):\n\u001b[0;32m--> 102\u001b[0m     \u001b[38;5;28;43msuper\u001b[39;49m\u001b[43m(\u001b[49m\u001b[43m)\u001b[49m\u001b[38;5;241;43m.\u001b[39;49m\u001b[43mrun_analysis\u001b[49m\u001b[43m(\u001b[49m\u001b[43m)\u001b[49m  \u001b[38;5;66;03m# Run the basic analysis from TimeSeriesAnalyzer\u001b[39;00m\n\u001b[1;32m    104\u001b[0m     stl_result \u001b[38;5;241m=\u001b[39m \u001b[38;5;28mself\u001b[39m\u001b[38;5;241m.\u001b[39mperform_stl_analysis(period\u001b[38;5;241m=\u001b[39mstl_period)\n\u001b[1;32m    105\u001b[0m     mstl_result \u001b[38;5;241m=\u001b[39m \u001b[38;5;28mself\u001b[39m\u001b[38;5;241m.\u001b[39mperform_mstl_analysis(seasonal_periods\u001b[38;5;241m=\u001b[39mmstl_periods, n_jobs\u001b[38;5;241m=\u001b[39mn_jobs)\n",
      "File \u001b[0;32m~/Documents/09GitRep/tsanalysis_pipeline/src/tsanalysis_pipeline/analysis/time_series_analyzer.py:417\u001b[0m, in \u001b[0;36mTimeSeriesAnalyzer.run_analysis\u001b[0;34m(self, fill_method, differencing_order, lags)\u001b[0m\n\u001b[1;32m    415\u001b[0m \u001b[38;5;28mself\u001b[39m\u001b[38;5;241m.\u001b[39mdrop_minute_value()\n\u001b[1;32m    416\u001b[0m \u001b[38;5;28mself\u001b[39m\u001b[38;5;241m.\u001b[39mcheck_missing_values(fill_method)\n\u001b[0;32m--> 417\u001b[0m \u001b[38;5;28;43mself\u001b[39;49m\u001b[38;5;241;43m.\u001b[39;49m\u001b[43mmake_stationarity\u001b[49m\u001b[43m(\u001b[49m\u001b[43mdifferencing_order\u001b[49m\u001b[43m)\u001b[49m\n\u001b[1;32m    418\u001b[0m \u001b[38;5;28mself\u001b[39m\u001b[38;5;241m.\u001b[39mplot_acf_pacf(lags)\n\u001b[1;32m    419\u001b[0m \u001b[38;5;28mself\u001b[39m\u001b[38;5;241m.\u001b[39mcheck_white_noise(lags)\n",
      "File \u001b[0;32m~/Documents/09GitRep/tsanalysis_pipeline/src/tsanalysis_pipeline/analysis/time_series_analyzer.py:289\u001b[0m, in \u001b[0;36mTimeSeriesAnalyzer.make_stationarity\u001b[0;34m(self, differencing_order)\u001b[0m\n\u001b[1;32m    279\u001b[0m \u001b[38;5;28;01mdef\u001b[39;00m \u001b[38;5;21mmake_stationarity\u001b[39m(\u001b[38;5;28mself\u001b[39m, differencing_order: \u001b[38;5;28mint\u001b[39m \u001b[38;5;241m=\u001b[39m \u001b[38;5;241m1\u001b[39m) \u001b[38;5;241m-\u001b[39m\u001b[38;5;241m>\u001b[39m pd\u001b[38;5;241m.\u001b[39mDataFrame:\n\u001b[1;32m    280\u001b[0m     \u001b[38;5;124;03m\"\"\"\u001b[39;00m\n\u001b[1;32m    281\u001b[0m \u001b[38;5;124;03m    Make the time series stationary through differencing if necessary.\u001b[39;00m\n\u001b[1;32m    282\u001b[0m \n\u001b[0;32m   (...)\u001b[0m\n\u001b[1;32m    287\u001b[0m \u001b[38;5;124;03m        pd.DataFrame: The processed data after making it stationary.\u001b[39;00m\n\u001b[1;32m    288\u001b[0m \u001b[38;5;124;03m    \"\"\"\u001b[39;00m\n\u001b[0;32m--> 289\u001b[0m     \u001b[38;5;28;01mif\u001b[39;00m \u001b[38;5;28;43mself\u001b[39;49m\u001b[38;5;241;43m.\u001b[39;49m\u001b[43mis_necessary_differencing\u001b[49m\u001b[43m(\u001b[49m\u001b[43m)\u001b[49m:\n\u001b[1;32m    290\u001b[0m         \u001b[38;5;28;01mfor\u001b[39;00m _ \u001b[38;5;129;01min\u001b[39;00m \u001b[38;5;28mrange\u001b[39m(differencing_order):\n\u001b[1;32m    291\u001b[0m             \u001b[38;5;28mself\u001b[39m\u001b[38;5;241m.\u001b[39mprocessed_data[\u001b[38;5;28mself\u001b[39m\u001b[38;5;241m.\u001b[39mvalue_column] \u001b[38;5;241m=\u001b[39m \u001b[38;5;28mself\u001b[39m\u001b[38;5;241m.\u001b[39mprocessed_data[\u001b[38;5;28mself\u001b[39m\u001b[38;5;241m.\u001b[39mvalue_column]\u001b[38;5;241m.\u001b[39mdiff()\n",
      "File \u001b[0;32m~/Documents/09GitRep/tsanalysis_pipeline/src/tsanalysis_pipeline/analysis/time_series_analyzer.py:260\u001b[0m, in \u001b[0;36mTimeSeriesAnalyzer.is_necessary_differencing\u001b[0;34m(self, adf_threshold)\u001b[0m\n\u001b[1;32m    250\u001b[0m \u001b[38;5;28;01mdef\u001b[39;00m \u001b[38;5;21mis_necessary_differencing\u001b[39m(\u001b[38;5;28mself\u001b[39m, adf_threshold: \u001b[38;5;28mint\u001b[39m \u001b[38;5;241m=\u001b[39m \u001b[38;5;241m1000\u001b[39m) \u001b[38;5;241m-\u001b[39m\u001b[38;5;241m>\u001b[39m \u001b[38;5;28mbool\u001b[39m:\n\u001b[1;32m    251\u001b[0m     \u001b[38;5;124;03m\"\"\"\u001b[39;00m\n\u001b[1;32m    252\u001b[0m \u001b[38;5;124;03m    Check if differencing is necessary based on stationarity tests.\u001b[39;00m\n\u001b[1;32m    253\u001b[0m \n\u001b[0;32m   (...)\u001b[0m\n\u001b[1;32m    258\u001b[0m \u001b[38;5;124;03m        bool: True if differencing is necessary, False otherwise.\u001b[39;00m\n\u001b[1;32m    259\u001b[0m \u001b[38;5;124;03m    \"\"\"\u001b[39;00m\n\u001b[0;32m--> 260\u001b[0m     kpss_stationary \u001b[38;5;241m=\u001b[39m \u001b[38;5;28;43mself\u001b[39;49m\u001b[38;5;241;43m.\u001b[39;49m\u001b[43mis_trend_stationary\u001b[49m\u001b[43m(\u001b[49m\u001b[43m)\u001b[49m\n\u001b[1;32m    262\u001b[0m     \u001b[38;5;28;01mif\u001b[39;00m \u001b[38;5;28mself\u001b[39m\u001b[38;5;241m.\u001b[39msample_size \u001b[38;5;241m<\u001b[39m\u001b[38;5;241m=\u001b[39m adf_threshold:\n\u001b[1;32m    263\u001b[0m         \u001b[38;5;28mprint\u001b[39m(\u001b[38;5;124m'\u001b[39m\u001b[38;5;124mUsing ADF test for small sample size\u001b[39m\u001b[38;5;124m'\u001b[39m)\n",
      "File \u001b[0;32m~/Documents/09GitRep/tsanalysis_pipeline/src/tsanalysis_pipeline/analysis/time_series_analyzer.py:243\u001b[0m, in \u001b[0;36mTimeSeriesAnalyzer.is_trend_stationary\u001b[0;34m(self, significance_level)\u001b[0m\n\u001b[1;32m    233\u001b[0m \u001b[38;5;28;01mdef\u001b[39;00m \u001b[38;5;21mis_trend_stationary\u001b[39m(\u001b[38;5;28mself\u001b[39m, significance_level: \u001b[38;5;28mfloat\u001b[39m \u001b[38;5;241m=\u001b[39m \u001b[38;5;241m0.05\u001b[39m) \u001b[38;5;241m-\u001b[39m\u001b[38;5;241m>\u001b[39m \u001b[38;5;28mbool\u001b[39m:\n\u001b[1;32m    234\u001b[0m     \u001b[38;5;124;03m\"\"\"\u001b[39;00m\n\u001b[1;32m    235\u001b[0m \u001b[38;5;124;03m    Perform KPSS test for trend stationarity.\u001b[39;00m\n\u001b[1;32m    236\u001b[0m \n\u001b[0;32m   (...)\u001b[0m\n\u001b[1;32m    241\u001b[0m \u001b[38;5;124;03m        bool: True if the series is trend stationary, False otherwise.\u001b[39;00m\n\u001b[1;32m    242\u001b[0m \u001b[38;5;124;03m    \"\"\"\u001b[39;00m\n\u001b[0;32m--> 243\u001b[0m     result \u001b[38;5;241m=\u001b[39m \u001b[43mkpss\u001b[49m\u001b[43m(\u001b[49m\u001b[38;5;28;43mself\u001b[39;49m\u001b[38;5;241;43m.\u001b[39;49m\u001b[43mprocessed_data\u001b[49m\u001b[43m[\u001b[49m\u001b[38;5;28;43mself\u001b[39;49m\u001b[38;5;241;43m.\u001b[39;49m\u001b[43mvalue_column\u001b[49m\u001b[43m]\u001b[49m\u001b[43m,\u001b[49m\u001b[43m \u001b[49m\u001b[43mregression\u001b[49m\u001b[38;5;241;43m=\u001b[39;49m\u001b[38;5;124;43m'\u001b[39;49m\u001b[38;5;124;43mct\u001b[39;49m\u001b[38;5;124;43m'\u001b[39;49m\u001b[43m)\u001b[49m\n\u001b[1;32m    244\u001b[0m     \u001b[38;5;28mprint\u001b[39m(\u001b[38;5;124m'\u001b[39m\u001b[38;5;124m====================================================\u001b[39m\u001b[38;5;124m'\u001b[39m)\n\u001b[1;32m    245\u001b[0m     \u001b[38;5;28mprint\u001b[39m(\u001b[38;5;124m'\u001b[39m\u001b[38;5;124mKPSS Statistic: \u001b[39m\u001b[38;5;132;01m%f\u001b[39;00m\u001b[38;5;124m'\u001b[39m \u001b[38;5;241m%\u001b[39m result[\u001b[38;5;241m0\u001b[39m])\n",
      "File \u001b[0;32m~/anaconda3/lib/python3.10/site-packages/statsmodels/tsa/stattools.py:2090\u001b[0m, in \u001b[0;36mkpss\u001b[0;34m(x, regression, nlags, store)\u001b[0m\n\u001b[1;32m   2083\u001b[0m         warnings\u001b[38;5;241m.\u001b[39mwarn(\n\u001b[1;32m   2084\u001b[0m             \u001b[38;5;124m\"\u001b[39m\u001b[38;5;124mNone is not a valid value for nlags. It must be an integer, \u001b[39m\u001b[38;5;124m\"\u001b[39m\n\u001b[1;32m   2085\u001b[0m             \u001b[38;5;124m\"\u001b[39m\u001b[38;5;124m'\u001b[39m\u001b[38;5;124mauto\u001b[39m\u001b[38;5;124m'\u001b[39m\u001b[38;5;124m or \u001b[39m\u001b[38;5;124m'\u001b[39m\u001b[38;5;124mlegacy\u001b[39m\u001b[38;5;124m'\u001b[39m\u001b[38;5;124m. None will raise starting in 0.14\u001b[39m\u001b[38;5;124m\"\u001b[39m,\n\u001b[1;32m   2086\u001b[0m             \u001b[38;5;167;01mFutureWarning\u001b[39;00m,\n\u001b[1;32m   2087\u001b[0m             stacklevel\u001b[38;5;241m=\u001b[39m\u001b[38;5;241m2\u001b[39m,\n\u001b[1;32m   2088\u001b[0m         )\n\u001b[1;32m   2089\u001b[0m     \u001b[38;5;66;03m# autolag method of Hobijn et al. (1998)\u001b[39;00m\n\u001b[0;32m-> 2090\u001b[0m     nlags \u001b[38;5;241m=\u001b[39m \u001b[43m_kpss_autolag\u001b[49m\u001b[43m(\u001b[49m\u001b[43mresids\u001b[49m\u001b[43m,\u001b[49m\u001b[43m \u001b[49m\u001b[43mnobs\u001b[49m\u001b[43m)\u001b[49m\n\u001b[1;32m   2091\u001b[0m     nlags \u001b[38;5;241m=\u001b[39m \u001b[38;5;28mmin\u001b[39m(nlags, nobs \u001b[38;5;241m-\u001b[39m \u001b[38;5;241m1\u001b[39m)\n\u001b[1;32m   2092\u001b[0m \u001b[38;5;28;01melif\u001b[39;00m \u001b[38;5;28misinstance\u001b[39m(nlags, \u001b[38;5;28mstr\u001b[39m):\n",
      "File \u001b[0;32m~/anaconda3/lib/python3.10/site-packages/statsmodels/tsa/stattools.py:2174\u001b[0m, in \u001b[0;36m_kpss_autolag\u001b[0;34m(resids, nobs)\u001b[0m\n\u001b[1;32m   2172\u001b[0m pwr \u001b[38;5;241m=\u001b[39m \u001b[38;5;241m1.0\u001b[39m \u001b[38;5;241m/\u001b[39m \u001b[38;5;241m3.0\u001b[39m\n\u001b[1;32m   2173\u001b[0m gamma_hat \u001b[38;5;241m=\u001b[39m \u001b[38;5;241m1.1447\u001b[39m \u001b[38;5;241m*\u001b[39m np\u001b[38;5;241m.\u001b[39mpower(s_hat \u001b[38;5;241m*\u001b[39m s_hat, pwr)\n\u001b[0;32m-> 2174\u001b[0m autolags \u001b[38;5;241m=\u001b[39m \u001b[38;5;28;43mint\u001b[39;49m\u001b[43m(\u001b[49m\u001b[43mgamma_hat\u001b[49m\u001b[43m \u001b[49m\u001b[38;5;241;43m*\u001b[39;49m\u001b[43m \u001b[49m\u001b[43mnp\u001b[49m\u001b[38;5;241;43m.\u001b[39;49m\u001b[43mpower\u001b[49m\u001b[43m(\u001b[49m\u001b[43mnobs\u001b[49m\u001b[43m,\u001b[49m\u001b[43m \u001b[49m\u001b[43mpwr\u001b[49m\u001b[43m)\u001b[49m\u001b[43m)\u001b[49m\n\u001b[1;32m   2175\u001b[0m \u001b[38;5;28;01mreturn\u001b[39;00m autolags\n",
      "\u001b[0;31mValueError\u001b[0m: cannot convert float NaN to integer"
     ]
    }
   ],
   "source": [
    "analyzer.run_modeling_analysis()"
   ]
  },
  {
   "cell_type": "code",
   "execution_count": null,
   "id": "f478f870",
   "metadata": {},
   "outputs": [],
   "source": []
  }
 ],
 "metadata": {
  "kernelspec": {
   "display_name": "Python 3 (ipykernel)",
   "language": "python",
   "name": "python3"
  },
  "language_info": {
   "codemirror_mode": {
    "name": "ipython",
    "version": 3
   },
   "file_extension": ".py",
   "mimetype": "text/x-python",
   "name": "python",
   "nbconvert_exporter": "python",
   "pygments_lexer": "ipython3",
   "version": "3.10.9"
  }
 },
 "nbformat": 4,
 "nbformat_minor": 5
}
